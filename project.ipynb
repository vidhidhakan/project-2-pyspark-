{
 "cells": [
  {
   "cell_type": "code",
   "execution_count": 1,
   "id": "29460c6c-2716-4427-83f3-9196ce444f7e",
   "metadata": {},
   "outputs": [
    {
     "data": {
      "text/plain": [
       "'C:\\\\Users\\\\Vidhi Dhakan\\\\OneDrive\\\\Documents\\\\tutor resume_files\\\\spark-3.5.1'"
      ]
     },
     "execution_count": 1,
     "metadata": {},
     "output_type": "execute_result"
    }
   ],
   "source": [
    "import findspark\n",
    "findspark.init()\n",
    "import pyspark\n",
    "findspark.find()"
   ]
  },
  {
   "cell_type": "code",
   "execution_count": 2,
   "id": "0e94fbbd-8836-49a6-b1ac-a79999c7ac06",
   "metadata": {},
   "outputs": [],
   "source": [
    "from pyspark import SparkContext, SparkConf\n",
    "from pyspark.sql import SparkSession\n",
    "conf = pyspark.SparkConf().setAppName('application').setMaster('local')\n",
    "sc = pyspark.SparkContext(conf=conf)\n",
    "spark = SparkSession(sc)"
   ]
  },
  {
   "cell_type": "code",
   "execution_count": 3,
   "id": "f8775340-49a9-4877-8dc4-577d8c277fa1",
   "metadata": {},
   "outputs": [
    {
     "data": {
      "text/html": [
       "\n",
       "            <div>\n",
       "                <p><b>SparkSession - in-memory</b></p>\n",
       "                \n",
       "        <div>\n",
       "            <p><b>SparkContext</b></p>\n",
       "\n",
       "            <p><a href=\"http://10.0.0.189:4040\">Spark UI</a></p>\n",
       "\n",
       "            <dl>\n",
       "              <dt>Version</dt>\n",
       "                <dd><code>v3.5.1</code></dd>\n",
       "              <dt>Master</dt>\n",
       "                <dd><code>local</code></dd>\n",
       "              <dt>AppName</dt>\n",
       "                <dd><code>application</code></dd>\n",
       "            </dl>\n",
       "        </div>\n",
       "        \n",
       "            </div>\n",
       "        "
      ],
      "text/plain": [
       "<pyspark.sql.session.SparkSession at 0x211e56ec5f0>"
      ]
     },
     "execution_count": 3,
     "metadata": {},
     "output_type": "execute_result"
    }
   ],
   "source": [
    "spark"
   ]
  },
  {
   "cell_type": "code",
   "execution_count": 4,
   "id": "41dbb1ba-7423-41f2-bcfb-df855afc62cf",
   "metadata": {},
   "outputs": [],
   "source": [
    "import pyspark"
   ]
  },
  {
   "cell_type": "code",
   "execution_count": 5,
   "id": "846000ca-d334-46a0-b3e1-63da98e9e2b5",
   "metadata": {},
   "outputs": [],
   "source": [
    "import pyspark as py \n",
    "import pandas as pd"
   ]
  },
  {
   "cell_type": "code",
   "execution_count": 18,
   "id": "f4abc91f-1b29-40cf-b089-8f3c24a3e8b6",
   "metadata": {},
   "outputs": [
    {
     "data": {
      "text/plain": [
       "pandas.core.frame.DataFrame"
      ]
     },
     "execution_count": 18,
     "metadata": {},
     "output_type": "execute_result"
    }
   ],
   "source": [
    "type(pd.read_csv(r'C:\\Users\\Vidhi Dhakan\\OneDrive\\Documents\\tutor resume_files\\spark-3.5.1\\googleplaystore.csv'))"
   ]
  },
  {
   "cell_type": "code",
   "execution_count": 19,
   "id": "a5e3926b-36c7-4a1a-a8c5-b1da6c3d1f0b",
   "metadata": {},
   "outputs": [],
   "source": [
    "df_pyspark=spark.read.csv(r'C:\\Users\\Vidhi Dhakan\\OneDrive\\Documents\\tutor resume_files\\spark-3.5.1\\googleplaystore.csv')"
   ]
  },
  {
   "cell_type": "code",
   "execution_count": 9,
   "id": "25347dfc-671f-4329-b593-077b6c0246f9",
   "metadata": {},
   "outputs": [
    {
     "data": {
      "text/plain": [
       "DataFrame[_c0: string, _c1: string, _c2: string, _c3: string, _c4: string, _c5: string, _c6: string, _c7: string, _c8: string, _c9: string, _c10: string, _c11: string, _c12: string]"
      ]
     },
     "execution_count": 9,
     "metadata": {},
     "output_type": "execute_result"
    }
   ],
   "source": [
    "df_pyspark"
   ]
  },
  {
   "cell_type": "code",
   "execution_count": 10,
   "id": "c9bcd4d9-ad3c-4198-aec4-59a3ca0d4f7f",
   "metadata": {},
   "outputs": [
    {
     "name": "stdout",
     "output_type": "stream",
     "text": [
      "+--------------------+--------------+------+-------+----+-----------+----+-----+--------------+--------------------+------------------+------------------+------------+\n",
      "|                 _c0|           _c1|   _c2|    _c3| _c4|        _c5| _c6|  _c7|           _c8|                 _c9|              _c10|              _c11|        _c12|\n",
      "+--------------------+--------------+------+-------+----+-----------+----+-----+--------------+--------------------+------------------+------------------+------------+\n",
      "|                 App|      Category|Rating|Reviews|Size|   Installs|Type|Price|Content Rating|              Genres|      Last Updated|       Current Ver| Android Ver|\n",
      "|Photo Editor & Ca...|ART_AND_DESIGN|   4.1|    159| 19M|    10,000+|Free|    0|      Everyone|        Art & Design|   January 7, 2018|             1.0.0|4.0.3 and up|\n",
      "| Coloring book moana|ART_AND_DESIGN|   3.9|    967| 14M|   500,000+|Free|    0|      Everyone|Art & Design;Pret...|  January 15, 2018|             2.0.0|4.0.3 and up|\n",
      "|U Launcher Lite –...|ART_AND_DESIGN|   4.7|  87510|8.7M| 5,000,000+|Free|    0|      Everyone|        Art & Design|    August 1, 2018|             1.2.4|4.0.3 and up|\n",
      "|Sketch - Draw & P...|ART_AND_DESIGN|   4.5| 215644| 25M|50,000,000+|Free|    0|          Teen|        Art & Design|      June 8, 2018|Varies with device|  4.2 and up|\n",
      "|Pixel Draw - Numb...|ART_AND_DESIGN|   4.3|    967|2.8M|   100,000+|Free|    0|      Everyone|Art & Design;Crea...|     June 20, 2018|               1.1|  4.4 and up|\n",
      "|Paper flowers ins...|ART_AND_DESIGN|   4.4|    167|5.6M|    50,000+|Free|    0|      Everyone|        Art & Design|    March 26, 2017|               1.0|  2.3 and up|\n",
      "|Smoke Effect Phot...|ART_AND_DESIGN|   3.8|    178| 19M|    50,000+|Free|    0|      Everyone|        Art & Design|    April 26, 2018|               1.1|4.0.3 and up|\n",
      "|    Infinite Painter|ART_AND_DESIGN|   4.1|  36815| 29M| 1,000,000+|Free|    0|      Everyone|        Art & Design|     June 14, 2018|          6.1.61.1|  4.2 and up|\n",
      "|Garden Coloring Book|ART_AND_DESIGN|   4.4|  13791| 33M| 1,000,000+|Free|    0|      Everyone|        Art & Design|September 20, 2017|             2.9.2|  3.0 and up|\n",
      "|Kids Paint Free -...|ART_AND_DESIGN|   4.7|    121|3.1M|    10,000+|Free|    0|      Everyone|Art & Design;Crea...|      July 3, 2018|               2.8|4.0.3 and up|\n",
      "|Text on Photo - F...|ART_AND_DESIGN|   4.4|  13880| 28M| 1,000,000+|Free|    0|      Everyone|        Art & Design|  October 27, 2017|             1.0.4|  4.1 and up|\n",
      "|Name Art Photo Ed...|ART_AND_DESIGN|   4.4|   8788| 12M| 1,000,000+|Free|    0|      Everyone|        Art & Design|     July 31, 2018|            1.0.15|  4.0 and up|\n",
      "|Tattoo Name On My...|ART_AND_DESIGN|   4.2|  44829| 20M|10,000,000+|Free|    0|          Teen|        Art & Design|     April 2, 2018|               3.8|  4.1 and up|\n",
      "|Mandala Coloring ...|ART_AND_DESIGN|   4.6|   4326| 21M|   100,000+|Free|    0|      Everyone|        Art & Design|     June 26, 2018|             1.0.4|  4.4 and up|\n",
      "|3D Color Pixel by...|ART_AND_DESIGN|   4.4|   1518| 37M|   100,000+|Free|    0|      Everyone|        Art & Design|    August 3, 2018|             1.2.3|  2.3 and up|\n",
      "|Learn To Draw Kaw...|ART_AND_DESIGN|   3.2|     55|2.7M|     5,000+|Free|    0|      Everyone|        Art & Design|      June 6, 2018|               NaN|  4.2 and up|\n",
      "|Photo Designer - ...|ART_AND_DESIGN|   4.7|   3632|5.5M|   500,000+|Free|    0|      Everyone|        Art & Design|     July 31, 2018|               3.1|  4.1 and up|\n",
      "|350 Diy Room Deco...|ART_AND_DESIGN|   4.5|     27| 17M|    10,000+|Free|    0|      Everyone|        Art & Design|  November 7, 2017|               1.0|  2.3 and up|\n",
      "|FlipaClip - Carto...|ART_AND_DESIGN|   4.3| 194216| 39M| 5,000,000+|Free|    0|      Everyone|        Art & Design|    August 3, 2018|             2.2.5|4.0.3 and up|\n",
      "+--------------------+--------------+------+-------+----+-----------+----+-----+--------------+--------------------+------------------+------------------+------------+\n",
      "only showing top 20 rows\n",
      "\n"
     ]
    }
   ],
   "source": [
    "df_pyspark.show()"
   ]
  },
  {
   "cell_type": "code",
   "execution_count": 21,
   "id": "3fe89130-e067-4ae5-ac36-809594c4d039",
   "metadata": {},
   "outputs": [],
   "source": [
    "df_pyspark=spark.read.option('header','true').csv(r'C:\\Users\\Vidhi Dhakan\\OneDrive\\Documents\\tutor resume_files\\spark-3.5.1\\googleplaystore.csv')"
   ]
  },
  {
   "cell_type": "code",
   "execution_count": 22,
   "id": "56341c41-b50f-4988-aa2b-de478b6d429a",
   "metadata": {},
   "outputs": [
    {
     "data": {
      "text/plain": [
       "pyspark.sql.dataframe.DataFrame"
      ]
     },
     "execution_count": 22,
     "metadata": {},
     "output_type": "execute_result"
    }
   ],
   "source": [
    "type(df_pyspark)"
   ]
  },
  {
   "cell_type": "code",
   "execution_count": 23,
   "id": "ad4a7548-f59f-4649-9e9d-314432f86a94",
   "metadata": {},
   "outputs": [
    {
     "name": "stdout",
     "output_type": "stream",
     "text": [
      "root\n",
      " |-- App: string (nullable = true)\n",
      " |-- Category: string (nullable = true)\n",
      " |-- Rating: string (nullable = true)\n",
      " |-- Reviews: string (nullable = true)\n",
      " |-- Size: string (nullable = true)\n",
      " |-- Installs: string (nullable = true)\n",
      " |-- Type: string (nullable = true)\n",
      " |-- Price: string (nullable = true)\n",
      " |-- Content Rating: string (nullable = true)\n",
      " |-- Genres: string (nullable = true)\n",
      " |-- Last Updated: string (nullable = true)\n",
      " |-- Current Ver: string (nullable = true)\n",
      " |-- Android Ver: string (nullable = true)\n",
      "\n"
     ]
    }
   ],
   "source": [
    "df_pyspark.printSchema()"
   ]
  },
  {
   "cell_type": "code",
   "execution_count": 31,
   "id": "4c3c8803-46c6-4975-9805-17fec5368ee3",
   "metadata": {},
   "outputs": [],
   "source": [
    "### DATA CLEANING STEP \n",
    "\n",
    "df_pyspark=df_pyspark.drop('size','Content Rating','Last Updated','Android Ver','Current Ver')"
   ]
  },
  {
   "cell_type": "code",
   "execution_count": 32,
   "id": "e1e53920-54fb-4a20-81f3-b99bffb4c099",
   "metadata": {},
   "outputs": [
    {
     "name": "stdout",
     "output_type": "stream",
     "text": [
      "+--------------------+--------------+------+-------+--------+----+-----+--------------------+\n",
      "|                 App|      Category|Rating|Reviews|Installs|Type|Price|              Genres|\n",
      "+--------------------+--------------+------+-------+--------+----+-----+--------------------+\n",
      "|Photo Editor & Ca...|ART_AND_DESIGN|   4.1|    159| 10,000+|Free|    0|        Art & Design|\n",
      "| Coloring book moana|ART_AND_DESIGN|   3.9|    967|500,000+|Free|    0|Art & Design;Pret...|\n",
      "+--------------------+--------------+------+-------+--------+----+-----+--------------------+\n",
      "only showing top 2 rows\n",
      "\n"
     ]
    }
   ],
   "source": [
    "df_pyspark.show(2)"
   ]
  },
  {
   "cell_type": "code",
   "execution_count": 55,
   "id": "4610eedb-030c-4361-8b5d-c198eae575fa",
   "metadata": {},
   "outputs": [
    {
     "name": "stdout",
     "output_type": "stream",
     "text": [
      "root\n",
      " |-- App: string (nullable = true)\n",
      " |-- Category: string (nullable = true)\n",
      " |-- Rating: double (nullable = true)\n",
      " |-- Reviews: integer (nullable = true)\n",
      " |-- Installs: integer (nullable = true)\n",
      " |-- Type: string (nullable = true)\n",
      " |-- Price: integer (nullable = true)\n",
      " |-- Genres: string (nullable = true)\n",
      "\n"
     ]
    }
   ],
   "source": [
    "df_pyspark.printSchema()"
   ]
  },
  {
   "cell_type": "code",
   "execution_count": 58,
   "id": "e8f76c82-0d4e-4676-9868-35312a9acffa",
   "metadata": {},
   "outputs": [
    {
     "name": "stdout",
     "output_type": "stream",
     "text": [
      "+--------------------+--------------+------+-------+--------+----+-----+--------------------+\n",
      "|                 App|      Category|Rating|Reviews|Installs|Type|Price|              Genres|\n",
      "+--------------------+--------------+------+-------+--------+----+-----+--------------------+\n",
      "|Photo Editor & Ca...|ART_AND_DESIGN|   4.1|    159|    NULL|Free|    0|        Art & Design|\n",
      "| Coloring book moana|ART_AND_DESIGN|   3.9|    967|    NULL|Free|    0|Art & Design;Pret...|\n",
      "|U Launcher Lite –...|ART_AND_DESIGN|   4.7|  87510|    NULL|Free|    0|        Art & Design|\n",
      "|Sketch - Draw & P...|ART_AND_DESIGN|   4.5| 215644|    NULL|Free|    0|        Art & Design|\n",
      "|Pixel Draw - Numb...|ART_AND_DESIGN|   4.3|    967|    NULL|Free|    0|Art & Design;Crea...|\n",
      "|Paper flowers ins...|ART_AND_DESIGN|   4.4|    167|    NULL|Free|    0|        Art & Design|\n",
      "|Smoke Effect Phot...|ART_AND_DESIGN|   3.8|    178|    NULL|Free|    0|        Art & Design|\n",
      "|    Infinite Painter|ART_AND_DESIGN|   4.1|  36815|    NULL|Free|    0|        Art & Design|\n",
      "|Garden Coloring Book|ART_AND_DESIGN|   4.4|  13791|    NULL|Free|    0|        Art & Design|\n",
      "|Kids Paint Free -...|ART_AND_DESIGN|   4.7|    121|    NULL|Free|    0|Art & Design;Crea...|\n",
      "|Text on Photo - F...|ART_AND_DESIGN|   4.4|  13880|    NULL|Free|    0|        Art & Design|\n",
      "|Name Art Photo Ed...|ART_AND_DESIGN|   4.4|   8788|    NULL|Free|    0|        Art & Design|\n",
      "|Tattoo Name On My...|ART_AND_DESIGN|   4.2|  44829|    NULL|Free|    0|        Art & Design|\n",
      "|Mandala Coloring ...|ART_AND_DESIGN|   4.6|   4326|    NULL|Free|    0|        Art & Design|\n",
      "|3D Color Pixel by...|ART_AND_DESIGN|   4.4|   1518|    NULL|Free|    0|        Art & Design|\n",
      "|Learn To Draw Kaw...|ART_AND_DESIGN|   3.2|     55|    NULL|Free|    0|        Art & Design|\n",
      "|Photo Designer - ...|ART_AND_DESIGN|   4.7|   3632|    NULL|Free|    0|        Art & Design|\n",
      "|350 Diy Room Deco...|ART_AND_DESIGN|   4.5|     27|    NULL|Free|    0|        Art & Design|\n",
      "|FlipaClip - Carto...|ART_AND_DESIGN|   4.3| 194216|    NULL|Free|    0|        Art & Design|\n",
      "|        ibis Paint X|ART_AND_DESIGN|   4.6| 224399|    NULL|Free|    0|        Art & Design|\n",
      "+--------------------+--------------+------+-------+--------+----+-----+--------------------+\n",
      "only showing top 20 rows\n",
      "\n"
     ]
    }
   ],
   "source": [
    "df_pyspark.show()"
   ]
  },
  {
   "cell_type": "code",
   "execution_count": 59,
   "id": "1ed82524-7320-4aac-851f-4d86d0365992",
   "metadata": {},
   "outputs": [],
   "source": [
    "## FIND TOP 10 REVIEWS \n",
    "\n",
    "df_pyspark.createOrReplaceTempView('apps')"
   ]
  },
  {
   "cell_type": "code",
   "execution_count": 68,
   "id": "7177107f-3e14-4008-8784-021c6c48c2c6",
   "metadata": {},
   "outputs": [
    {
     "name": "stdout",
     "output_type": "stream",
     "text": [
      "+--------------------+--------------+------+-------+--------+----+-----+--------------------+\n",
      "|                 App|      Category|Rating|Reviews|Installs|Type|Price|              Genres|\n",
      "+--------------------+--------------+------+-------+--------+----+-----+--------------------+\n",
      "|Photo Editor & Ca...|ART_AND_DESIGN|   4.1|    159|    NULL|Free|    0|        Art & Design|\n",
      "| Coloring book moana|ART_AND_DESIGN|   3.9|    967|    NULL|Free|    0|Art & Design;Pret...|\n",
      "|U Launcher Lite –...|ART_AND_DESIGN|   4.7|  87510|    NULL|Free|    0|        Art & Design|\n",
      "|Sketch - Draw & P...|ART_AND_DESIGN|   4.5| 215644|    NULL|Free|    0|        Art & Design|\n",
      "|Pixel Draw - Numb...|ART_AND_DESIGN|   4.3|    967|    NULL|Free|    0|Art & Design;Crea...|\n",
      "|Paper flowers ins...|ART_AND_DESIGN|   4.4|    167|    NULL|Free|    0|        Art & Design|\n",
      "|Smoke Effect Phot...|ART_AND_DESIGN|   3.8|    178|    NULL|Free|    0|        Art & Design|\n",
      "|    Infinite Painter|ART_AND_DESIGN|   4.1|  36815|    NULL|Free|    0|        Art & Design|\n",
      "|Garden Coloring Book|ART_AND_DESIGN|   4.4|  13791|    NULL|Free|    0|        Art & Design|\n",
      "|Kids Paint Free -...|ART_AND_DESIGN|   4.7|    121|    NULL|Free|    0|Art & Design;Crea...|\n",
      "|Text on Photo - F...|ART_AND_DESIGN|   4.4|  13880|    NULL|Free|    0|        Art & Design|\n",
      "|Name Art Photo Ed...|ART_AND_DESIGN|   4.4|   8788|    NULL|Free|    0|        Art & Design|\n",
      "|Tattoo Name On My...|ART_AND_DESIGN|   4.2|  44829|    NULL|Free|    0|        Art & Design|\n",
      "|Mandala Coloring ...|ART_AND_DESIGN|   4.6|   4326|    NULL|Free|    0|        Art & Design|\n",
      "|3D Color Pixel by...|ART_AND_DESIGN|   4.4|   1518|    NULL|Free|    0|        Art & Design|\n",
      "|Learn To Draw Kaw...|ART_AND_DESIGN|   3.2|     55|    NULL|Free|    0|        Art & Design|\n",
      "|Photo Designer - ...|ART_AND_DESIGN|   4.7|   3632|    NULL|Free|    0|        Art & Design|\n",
      "|350 Diy Room Deco...|ART_AND_DESIGN|   4.5|     27|    NULL|Free|    0|        Art & Design|\n",
      "|FlipaClip - Carto...|ART_AND_DESIGN|   4.3| 194216|    NULL|Free|    0|        Art & Design|\n",
      "|        ibis Paint X|ART_AND_DESIGN|   4.6| 224399|    NULL|Free|    0|        Art & Design|\n",
      "+--------------------+--------------+------+-------+--------+----+-----+--------------------+\n",
      "only showing top 20 rows\n",
      "\n"
     ]
    }
   ],
   "source": [
    "  result_df = spark.sql(\"SELECT * FROM apps\").show()"
   ]
  },
  {
   "cell_type": "code",
   "execution_count": 83,
   "id": "b3af2cd3-beff-45fc-bbb7-92e10f298afb",
   "metadata": {},
   "outputs": [
    {
     "name": "stdout",
     "output_type": "stream",
     "text": [
      "+--------------------+--------+\n",
      "|                 App| Reviews|\n",
      "+--------------------+--------+\n",
      "|            Facebook|78158306|\n",
      "|            Facebook|78128208|\n",
      "|  WhatsApp Messenger|69119316|\n",
      "|  WhatsApp Messenger|69119316|\n",
      "|  WhatsApp Messenger|69109672|\n",
      "|           Instagram|66577446|\n",
      "|           Instagram|66577313|\n",
      "|           Instagram|66577313|\n",
      "|           Instagram|66509917|\n",
      "|Messenger – Text ...|56646578|\n",
      "+--------------------+--------+\n",
      "\n"
     ]
    }
   ],
   "source": [
    "## TOP REVIEWS FROM APPS\n",
    "\n",
    "#asc -- from lowest to highest\n",
    "#desc -- from highest to lowest(uppar thi niche)\n",
    "\n",
    "result_df = spark.sql(\"SELECT App, Reviews FROM apps ORDER BY reviews DESC LIMIT 10\").show()"
   ]
  },
  {
   "cell_type": "code",
   "execution_count": 79,
   "id": "0bbbc05b-44b5-431b-bfd4-a68a9ae8b904",
   "metadata": {},
   "outputs": [
    {
     "name": "stdout",
     "output_type": "stream",
     "text": [
      "+--------------------+--------+\n",
      "|                 App|Installs|\n",
      "+--------------------+--------+\n",
      "|\"Yanosik: \"\"antyr...|       4|\n",
      "|\"Women\"\"s Health ...|       4|\n",
      "|Command & Conquer...|       0|\n",
      "|Photo Editor & Ca...|    NULL|\n",
      "| Coloring book moana|    NULL|\n",
      "|U Launcher Lite –...|    NULL|\n",
      "|Sketch - Draw & P...|    NULL|\n",
      "|Pixel Draw - Numb...|    NULL|\n",
      "|Paper flowers ins...|    NULL|\n",
      "|Smoke Effect Phot...|    NULL|\n",
      "+--------------------+--------+\n",
      "\n"
     ]
    }
   ],
   "source": [
    "# SQL query to get the top 10 apps by number of installs\n",
    "\n",
    "results_df = spark.sql(\"SELECT App, Installs FROM apps ORDER BY Installs DESC LIMIT 10\").show()\n"
   ]
  },
  {
   "cell_type": "code",
   "execution_count": 91,
   "id": "51986d7d-c92e-42dd-87e7-6971177bb705",
   "metadata": {},
   "outputs": [
    {
     "name": "stdout",
     "output_type": "stream",
     "text": [
      "+-------------------+--------------+\n",
      "|           Category|Total_Installs|\n",
      "+-------------------+--------------+\n",
      "|               Face|             4|\n",
      "|       traffic jams|             4|\n",
      "|             FAMILY|             0|\n",
      "|             EVENTS|          NULL|\n",
      "|             COMICS|          NULL|\n",
      "|             SPORTS|          NULL|\n",
      "|            WEATHER|          NULL|\n",
      "|      VIDEO_PLAYERS|          NULL|\n",
      "|  AUTO_AND_VEHICLES|          NULL|\n",
      "|          PARENTING|          NULL|\n",
      "|      ENTERTAINMENT|          NULL|\n",
      "|    PERSONALIZATION|          NULL|\n",
      "| HEALTH_AND_FITNESS|          NULL|\n",
      "|   TRAVEL_AND_LOCAL|          NULL|\n",
      "|BOOKS_AND_REFERENCE|          NULL|\n",
      "|     FOOD_AND_DRINK|          NULL|\n",
      "|        PHOTOGRAPHY|          NULL|\n",
      "|           BUSINESS|          NULL|\n",
      "|           SHOPPING|          NULL|\n",
      "|     HOUSE_AND_HOME|          NULL|\n",
      "+-------------------+--------------+\n",
      "only showing top 20 rows\n",
      "\n"
     ]
    }
   ],
   "source": [
    "## category wise install apps \n",
    "\n",
    "results_df = spark.sql(\"\"\"\n",
    "        SELECT Category, SUM(Installs) as Total_Installs\n",
    "        FROM apps\n",
    "        GROUP BY Category\n",
    "        ORDER BY Total_Installs DESC\n",
    "    \"\"\").show()"
   ]
  },
  {
   "cell_type": "code",
   "execution_count": 100,
   "id": "c8442e0f-5392-4423-bbb1-99c6f0ce49e8",
   "metadata": {},
   "outputs": [
    {
     "name": "stdout",
     "output_type": "stream",
     "text": [
      "+--------------------+----------+\n",
      "|                 App|TotalPrice|\n",
      "+--------------------+----------+\n",
      "|      I am Rich Plus|      NULL|\n",
      "|Trine 2: Complete...|      NULL|\n",
      "|Whoowasit? - Best...|      NULL|\n",
      "|           AF-STROKE|      NULL|\n",
      "|     Sokoban Land DX|      NULL|\n",
      "|Servidor Privado ...|      NULL|\n",
      "| Campervan.Guide Pro|      NULL|\n",
      "| XCOM®: Enemy Within|      NULL|\n",
      "|SweetLand — Famil...|      NULL|\n",
      "|Medical ID - In C...|      NULL|\n",
      "|Language Therapy:...|      NULL|\n",
      "|The World Ends Wi...|      NULL|\n",
      "|          iHunter BC|      NULL|\n",
      "|Flipped Out! - Po...|      NULL|\n",
      "|Dr. Panda Restaur...|      NULL|\n",
      "|Al'Quran Bahasa I...|      NULL|\n",
      "|         Eu Sou Rico|      NULL|\n",
      "|         bpresso PRO|      NULL|\n",
      "|CN Superstar Socc...|      NULL|\n",
      "|            Dz kayas|      NULL|\n",
      "+--------------------+----------+\n",
      "only showing top 20 rows\n",
      "\n"
     ]
    }
   ],
   "source": [
    "# SQL query to sum prices for paid apps, grouped by app names, and ordered by sum of prices descending\n",
    "\n",
    "results_df = spark.sql(\"\"\"\n",
    "    SELECT App, SUM(Price) AS TotalPrice\n",
    "    FROM apps\n",
    "    WHERE Type = 'Paid'\n",
    "    GROUP BY App\n",
    "    ORDER BY TotalPrice DESC\n",
    "\"\"\").show()"
   ]
  },
  {
   "cell_type": "code",
   "execution_count": 101,
   "id": "b1f0e4d0-844f-4a2a-80e8-80f3e879cbb1",
   "metadata": {},
   "outputs": [
    {
     "name": "stdout",
     "output_type": "stream",
     "text": [
      "root\n",
      " |-- App: string (nullable = true)\n",
      " |-- Category: string (nullable = true)\n",
      " |-- Rating: double (nullable = true)\n",
      " |-- Reviews: integer (nullable = true)\n",
      " |-- Installs: integer (nullable = true)\n",
      " |-- Type: string (nullable = true)\n",
      " |-- Price: integer (nullable = true)\n",
      " |-- Genres: string (nullable = true)\n",
      "\n"
     ]
    }
   ],
   "source": [
    "df_pyspark.printSchema()"
   ]
  },
  {
   "cell_type": "code",
   "execution_count": 102,
   "id": "af1f7567-5fe2-4da0-9f9c-2b1c6c3c9fec",
   "metadata": {},
   "outputs": [
    {
     "name": "stdout",
     "output_type": "stream",
     "text": [
      "+--------------------+--------------+------+-------+--------+----+-----+--------------------+\n",
      "|                 App|      Category|Rating|Reviews|Installs|Type|Price|              Genres|\n",
      "+--------------------+--------------+------+-------+--------+----+-----+--------------------+\n",
      "|Photo Editor & Ca...|ART_AND_DESIGN|   4.1|    159|    NULL|Free|    0|        Art & Design|\n",
      "| Coloring book moana|ART_AND_DESIGN|   3.9|    967|    NULL|Free|    0|Art & Design;Pret...|\n",
      "|U Launcher Lite –...|ART_AND_DESIGN|   4.7|  87510|    NULL|Free|    0|        Art & Design|\n",
      "|Sketch - Draw & P...|ART_AND_DESIGN|   4.5| 215644|    NULL|Free|    0|        Art & Design|\n",
      "|Pixel Draw - Numb...|ART_AND_DESIGN|   4.3|    967|    NULL|Free|    0|Art & Design;Crea...|\n",
      "|Paper flowers ins...|ART_AND_DESIGN|   4.4|    167|    NULL|Free|    0|        Art & Design|\n",
      "|Smoke Effect Phot...|ART_AND_DESIGN|   3.8|    178|    NULL|Free|    0|        Art & Design|\n",
      "|    Infinite Painter|ART_AND_DESIGN|   4.1|  36815|    NULL|Free|    0|        Art & Design|\n",
      "|Garden Coloring Book|ART_AND_DESIGN|   4.4|  13791|    NULL|Free|    0|        Art & Design|\n",
      "|Kids Paint Free -...|ART_AND_DESIGN|   4.7|    121|    NULL|Free|    0|Art & Design;Crea...|\n",
      "|Text on Photo - F...|ART_AND_DESIGN|   4.4|  13880|    NULL|Free|    0|        Art & Design|\n",
      "|Name Art Photo Ed...|ART_AND_DESIGN|   4.4|   8788|    NULL|Free|    0|        Art & Design|\n",
      "|Tattoo Name On My...|ART_AND_DESIGN|   4.2|  44829|    NULL|Free|    0|        Art & Design|\n",
      "|Mandala Coloring ...|ART_AND_DESIGN|   4.6|   4326|    NULL|Free|    0|        Art & Design|\n",
      "|3D Color Pixel by...|ART_AND_DESIGN|   4.4|   1518|    NULL|Free|    0|        Art & Design|\n",
      "|Learn To Draw Kaw...|ART_AND_DESIGN|   3.2|     55|    NULL|Free|    0|        Art & Design|\n",
      "|Photo Designer - ...|ART_AND_DESIGN|   4.7|   3632|    NULL|Free|    0|        Art & Design|\n",
      "|350 Diy Room Deco...|ART_AND_DESIGN|   4.5|     27|    NULL|Free|    0|        Art & Design|\n",
      "|FlipaClip - Carto...|ART_AND_DESIGN|   4.3| 194216|    NULL|Free|    0|        Art & Design|\n",
      "|        ibis Paint X|ART_AND_DESIGN|   4.6| 224399|    NULL|Free|    0|        Art & Design|\n",
      "+--------------------+--------------+------+-------+--------+----+-----+--------------------+\n",
      "only showing top 20 rows\n",
      "\n"
     ]
    }
   ],
   "source": [
    "df_pyspark.show()"
   ]
  },
  {
   "cell_type": "code",
   "execution_count": null,
   "id": "2ee25260-30e2-4d68-9375-237b650566e4",
   "metadata": {},
   "outputs": [],
   "source": []
  }
 ],
 "metadata": {
  "kernelspec": {
   "display_name": "Python 3 (ipykernel)",
   "language": "python",
   "name": "python3"
  },
  "language_info": {
   "codemirror_mode": {
    "name": "ipython",
    "version": 3
   },
   "file_extension": ".py",
   "mimetype": "text/x-python",
   "name": "python",
   "nbconvert_exporter": "python",
   "pygments_lexer": "ipython3",
   "version": "3.12.4"
  }
 },
 "nbformat": 4,
 "nbformat_minor": 5
}
